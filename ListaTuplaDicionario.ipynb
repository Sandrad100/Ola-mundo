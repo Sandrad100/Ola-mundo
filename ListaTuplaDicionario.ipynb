{
  "nbformat": 4,
  "nbformat_minor": 0,
  "metadata": {
    "colab": {
      "provenance": [],
      "authorship_tag": "ABX9TyNM0dkb8CeJcQcrXWxdctPo",
      "include_colab_link": true
    },
    "kernelspec": {
      "name": "python3",
      "display_name": "Python 3"
    },
    "language_info": {
      "name": "python"
    }
  },
  "cells": [
    {
      "cell_type": "markdown",
      "metadata": {
        "id": "view-in-github",
        "colab_type": "text"
      },
      "source": [
        "<a href=\"https://colab.research.google.com/github/Sandrad100/Ola-mundo/blob/main/ListaTuplaDicionario.ipynb\" target=\"_parent\"><img src=\"https://colab.research.google.com/assets/colab-badge.svg\" alt=\"Open In Colab\"/></a>"
      ]
    },
    {
      "cell_type": "markdown",
      "source": [
        "**Introdução ao Phyton**"
      ],
      "metadata": {
        "id": "B1oP7Dmws4Xr"
      }
    },
    {
      "cell_type": "markdown",
      "source": [
        "#**Exemplo de string**"
      ],
      "metadata": {
        "id": "NTB14NZ-tchx"
      }
    },
    {
      "cell_type": "code",
      "execution_count": null,
      "metadata": {
        "colab": {
          "base_uri": "https://localhost:8080/"
        },
        "id": "ZtcuOyVnrHWq",
        "outputId": "f001339b-6060-453d-c285-91f7951dce61"
      },
      "outputs": [
        {
          "output_type": "stream",
          "name": "stdout",
          "text": [
            "M\n",
            "Maria\n",
            "aria da Silva\n",
            "a\n",
            "Maria da Silv\n",
            "l\n"
          ]
        }
      ],
      "source": [
        "nome = 'Maria da Silva'\n",
        "print(nome[0])   # M\n",
        "print(nome[0:5]) # Maria\n",
        "print(nome[1:])  # aria da Silva\n",
        "print(nome[-1])  # a\n",
        "print(nome[:-1]) # Maria da Silv\n",
        "print(nome[-3])  # l"
      ]
    },
    {
      "cell_type": "markdown",
      "source": [
        "#**Exemplo de Métodos**"
      ],
      "metadata": {
        "id": "osf2zMmZuBs5"
      }
    },
    {
      "cell_type": "code",
      "source": [
        "nome = 'Maria da Silva'\n",
        "print('Métodos:')\n",
        "print(nome.find('x'))  # -1\n",
        "print(nome.upper())    # MARIA DA SILVA\n",
        "print(nome.lower())    # maria da silva\n",
        "print(nome.index('a')) # 1\n",
        "print(nome.index('x')) # dá erro! #Vamos aprender a corrigir!!!!"
      ],
      "metadata": {
        "colab": {
          "base_uri": "https://localhost:8080/",
          "height": 297
        },
        "id": "xxzChCXftMhu",
        "outputId": "39881888-1cb9-49c0-e85f-429fbc9efdbe"
      },
      "execution_count": null,
      "outputs": [
        {
          "output_type": "stream",
          "name": "stdout",
          "text": [
            "Métodos:\n",
            "-1\n",
            "MARIA DA SILVA\n",
            "maria da silva\n",
            "1\n"
          ]
        },
        {
          "output_type": "error",
          "ename": "ValueError",
          "evalue": "ignored",
          "traceback": [
            "\u001b[0;31m---------------------------------------------------------------------------\u001b[0m",
            "\u001b[0;31mValueError\u001b[0m                                Traceback (most recent call last)",
            "\u001b[0;32m<ipython-input-2-30cfa75502f9>\u001b[0m in \u001b[0;36m<cell line: 7>\u001b[0;34m()\u001b[0m\n\u001b[1;32m      5\u001b[0m \u001b[0mprint\u001b[0m\u001b[0;34m(\u001b[0m\u001b[0mnome\u001b[0m\u001b[0;34m.\u001b[0m\u001b[0mlower\u001b[0m\u001b[0;34m(\u001b[0m\u001b[0;34m)\u001b[0m\u001b[0;34m)\u001b[0m    \u001b[0;31m# maria da silva\u001b[0m\u001b[0;34m\u001b[0m\u001b[0;34m\u001b[0m\u001b[0m\n\u001b[1;32m      6\u001b[0m \u001b[0mprint\u001b[0m\u001b[0;34m(\u001b[0m\u001b[0mnome\u001b[0m\u001b[0;34m.\u001b[0m\u001b[0mindex\u001b[0m\u001b[0;34m(\u001b[0m\u001b[0;34m'a'\u001b[0m\u001b[0;34m)\u001b[0m\u001b[0;34m)\u001b[0m \u001b[0;31m# 1\u001b[0m\u001b[0;34m\u001b[0m\u001b[0;34m\u001b[0m\u001b[0m\n\u001b[0;32m----> 7\u001b[0;31m \u001b[0mprint\u001b[0m\u001b[0;34m(\u001b[0m\u001b[0mnome\u001b[0m\u001b[0;34m.\u001b[0m\u001b[0mindex\u001b[0m\u001b[0;34m(\u001b[0m\u001b[0;34m'x'\u001b[0m\u001b[0;34m)\u001b[0m\u001b[0;34m)\u001b[0m \u001b[0;31m# dá erro! #Vamos aprender a corrigir!!!!\u001b[0m\u001b[0;34m\u001b[0m\u001b[0;34m\u001b[0m\u001b[0m\n\u001b[0m",
            "\u001b[0;31mValueError\u001b[0m: substring not found"
          ]
        }
      ]
    },
    {
      "cell_type": "code",
      "source": [
        "try:\n",
        "  print(nome.index('x')) # dá erro!\n",
        "except:\n",
        "  print(f\"\"\"A substring  'x' não conta na palavra {nome}\"\"\") # dá erro!\n"
      ],
      "metadata": {
        "colab": {
          "base_uri": "https://localhost:8080/"
        },
        "id": "feazhhDnufpJ",
        "outputId": "8c95140d-b891-4d11-897a-22ff14efe2a6"
      },
      "execution_count": null,
      "outputs": [
        {
          "output_type": "stream",
          "name": "stdout",
          "text": [
            "A substring  'x' não conta na palavra Maria da Silva\n"
          ]
        }
      ]
    },
    {
      "cell_type": "markdown",
      "source": [
        "#**Criando Listas**"
      ],
      "metadata": {
        "id": "A5FjNMMNu8Fx"
      }
    },
    {
      "cell_type": "code",
      "source": [
        "l = []  # cria uma lista vazia\n",
        "x = [10, 15, 20]  # cria uma lista com três elementos\n",
        "x.append(int(input('Digite um número para a lista: '))) # 8\n",
        "\n",
        "# imprimindo cada elemento da lista:\n",
        "print(x[0])  # 10\n",
        "print(x[1])  # 15\n",
        "print(x[2])  # 20\n",
        "# incluindo um valor para a lista l:\n",
        "l.append('José')\n",
        "l.append('Maria')\n",
        "\n",
        "print(x)  # [10, 15, 20, 8]\n",
        "print(l)  # ['José', 'Maria']\n",
        "\n",
        "print(x[1:3])  # [15,20]\n",
        "print(len(x))  # 4\n",
        "del(x[1])\n",
        "print(x)  # [10, 20, 8] ,pois excluiu o 15, que estava no índice 1"
      ],
      "metadata": {
        "colab": {
          "base_uri": "https://localhost:8080/"
        },
        "id": "ZxBVa7inu_qZ",
        "outputId": "5d16860b-0d74-45c0-dc1f-e6d091083583"
      },
      "execution_count": null,
      "outputs": [
        {
          "output_type": "stream",
          "name": "stdout",
          "text": [
            "Digite um número para a lista: 10\n",
            "10\n",
            "15\n",
            "20\n",
            "[10, 15, 20, 10]\n",
            "['José', 'Maria']\n",
            "[15, 20]\n",
            "4\n",
            "[10, 20, 10]\n"
          ]
        }
      ]
    },
    {
      "cell_type": "markdown",
      "source": [
        "#**Tuplas**"
      ],
      "metadata": {
        "id": "bQs9g988v8AA"
      }
    },
    {
      "cell_type": "code",
      "source": [
        "tupla = (1, 2, 3, 4, 5)\n",
        "t1 = 'a', 'b', 'c', 40, 50\n",
        "print(tupla)\n",
        "print(t1)\n",
        "\n",
        "# particionando a tupla:\n",
        "print(f'tupla[1:4]: {tupla[1:4]}')\n",
        "# tupla com lista:\n",
        "t2 = (10, [20, 30, 40])\n",
        "print(f'tupla t2: {t2}')\n",
        "print('Tamanho da tupla: ',len(t2))\n",
        "t2[1].append(50)\n",
        "print(f'tupla t2: {t2}')\n",
        "print(t2)"
      ],
      "metadata": {
        "colab": {
          "base_uri": "https://localhost:8080/"
        },
        "id": "TRSLHU20wBN4",
        "outputId": "3d6d8924-13fe-4e82-eb02-f670b1c6c6be"
      },
      "execution_count": null,
      "outputs": [
        {
          "output_type": "stream",
          "name": "stdout",
          "text": [
            "(1, 2, 3, 4, 5)\n",
            "('a', 'b', 'c', 40, 50)\n",
            "tupla[1:4]: (2, 3, 4)\n",
            "tupla t2: (10, [20, 30, 40])\n",
            "Tamanho da tupla:  2\n",
            "tupla t2: (10, [20, 30, 40, 50])\n",
            "(10, [20, 30, 40, 50])\n"
          ]
        }
      ]
    },
    {
      "cell_type": "markdown",
      "source": [
        "#**Criando Listas**"
      ],
      "metadata": {
        "id": "xwGai34xbjL4"
      }
    },
    {
      "cell_type": "code",
      "source": [
        "# Criando listas:\n",
        "\n",
        "l = []  # cria uma lista vazia\n",
        "x = [10, 15, 20]  # cria uma lista com três elementos\n",
        "x.append(int(input('Digite um número para a lista: '))) # 8\n",
        "\n",
        "# imprimindo cada elemento da lista:\n",
        "print(x[0])  # 10\n",
        "print(x[1])  # 15\n",
        "print(x[2])  # 20\n",
        "# incluindo um valor para a lista l:\n",
        "l.append('José')\n",
        "l.append('Maria')\n",
        "\n",
        "print(x)  # [10, 15, 20, 8]\n",
        "print(l)  # ['José', 'Maria']\n",
        "\n",
        "print(x[1:3])  # [15,20]\n",
        "print(len(x))  # 4\n",
        "del(x[1])\n",
        "print(x)  # [10, 20, 8] ,pois excluiu o 15, que estava no índice 1"
      ],
      "metadata": {
        "colab": {
          "base_uri": "https://localhost:8080/"
        },
        "id": "duNnMJKbboIv",
        "outputId": "0aeb43e8-ebc6-4b6b-f873-99df670f5c8e"
      },
      "execution_count": 1,
      "outputs": [
        {
          "output_type": "stream",
          "name": "stdout",
          "text": [
            "Digite um número para a lista: 8\n",
            "10\n",
            "15\n",
            "20\n",
            "[10, 15, 20, 8]\n",
            "['José', 'Maria']\n",
            "[15, 20]\n",
            "4\n",
            "[10, 20, 8]\n"
          ]
        }
      ]
    },
    {
      "cell_type": "markdown",
      "source": [
        "#**Tuplas**"
      ],
      "metadata": {
        "id": "wgDAGLukcPIo"
      }
    },
    {
      "cell_type": "code",
      "source": [
        "tupla = (1, 2, 3, 4, 5)\n",
        "t1 = 'a', 'b', 'c', 40, 50\n",
        "print(tupla)\n",
        "print(t1)\n",
        "\n",
        "# particionando a tupla:\n",
        "print(f'tupla[1:4]: {tupla[1:4]}')\n",
        "# tupla com lista:\n",
        "t2 = (10, [20, 30, 40])\n",
        "print(f'tupla t2: {t2}')\n",
        "print('Tamanho da tupla: ',len(t2))\n",
        "t2[1].append(50)\n",
        "print(f'tupla t2: {t2}')\n",
        "print(t2)"
      ],
      "metadata": {
        "colab": {
          "base_uri": "https://localhost:8080/"
        },
        "id": "Vl3lsa29cSLX",
        "outputId": "52b39ef1-24b0-4b5b-bd91-61e264d49e12"
      },
      "execution_count": 2,
      "outputs": [
        {
          "output_type": "stream",
          "name": "stdout",
          "text": [
            "(1, 2, 3, 4, 5)\n",
            "('a', 'b', 'c', 40, 50)\n",
            "tupla[1:4]: (2, 3, 4)\n",
            "tupla t2: (10, [20, 30, 40])\n",
            "Tamanho da tupla:  2\n",
            "tupla t2: (10, [20, 30, 40, 50])\n",
            "(10, [20, 30, 40, 50])\n"
          ]
        }
      ]
    },
    {
      "cell_type": "markdown",
      "source": [
        "#**Dicionários**"
      ],
      "metadata": {
        "id": "rQEWbu-kcoKv"
      }
    },
    {
      "cell_type": "code",
      "source": [
        "produtos = {'Lápis': 1.50,\n",
        "            'Caderno': 15.00,\n",
        "            'Caneta': 2.50,\n",
        "            'Borracha': 5.00}\n",
        "print(produtos)\n",
        "# alterando o preço do caderno:\n",
        "produtos['Caderno'] = 20.00\n",
        "print(produtos)\n",
        "#incluindo um produto:\n",
        "produtos['Livro'] = 50.00\n",
        "print(produtos)\n",
        "print('Preço do lápis:', produtos['Lápis'])\n",
        "# verificando se uma chave existe:\n",
        "print('Caderno' in produtos)\n",
        "print('Gibi' in produtos)\n",
        "print(produtos.keys())  # mostra as chaves\n",
        "print(produtos.values()) # mostra os valores\n",
        "print(produtos.items())\n",
        "del(produtos['Caderno'])\n",
        "print(produtos)"
      ],
      "metadata": {
        "colab": {
          "base_uri": "https://localhost:8080/"
        },
        "id": "c_nqEE_Ucqz3",
        "outputId": "eb7ebe27-8d20-4bd2-ed0c-67105ae1fc80"
      },
      "execution_count": 3,
      "outputs": [
        {
          "output_type": "stream",
          "name": "stdout",
          "text": [
            "{'Lápis': 1.5, 'Caderno': 15.0, 'Caneta': 2.5, 'Borracha': 5.0}\n",
            "{'Lápis': 1.5, 'Caderno': 20.0, 'Caneta': 2.5, 'Borracha': 5.0}\n",
            "{'Lápis': 1.5, 'Caderno': 20.0, 'Caneta': 2.5, 'Borracha': 5.0, 'Livro': 50.0}\n",
            "Preço do lápis: 1.5\n",
            "True\n",
            "False\n",
            "dict_keys(['Lápis', 'Caderno', 'Caneta', 'Borracha', 'Livro'])\n",
            "dict_values([1.5, 20.0, 2.5, 5.0, 50.0])\n",
            "dict_items([('Lápis', 1.5), ('Caderno', 20.0), ('Caneta', 2.5), ('Borracha', 5.0), ('Livro', 50.0)])\n",
            "{'Lápis': 1.5, 'Caneta': 2.5, 'Borracha': 5.0, 'Livro': 50.0}\n"
          ]
        }
      ]
    },
    {
      "cell_type": "markdown",
      "source": [
        "#**Lista**"
      ],
      "metadata": {
        "id": "rnweHCYJdZz_"
      }
    },
    {
      "cell_type": "code",
      "source": [
        "# Lista:\n",
        "lista=[]\n",
        "# Tupla:\n",
        "tupla = (10, 20, 30, 40)\n",
        "# Dicionário\n",
        "dicionario = {'Arroz': 23.50, 'Feijão': 10.00, \"Tomate\": 4.99}\n",
        "\n",
        "lista.append(int(input('Digite um número: ')))\n",
        "lista.append(int(input('Digite um número: ')))\n",
        "lista.append(int(input('Digite um número: ')))\n",
        "dicionario['Alface'] = 3.50\n",
        "print(f'lista: {lista}')\n",
        "print(f'tupla: {tupla}')\n",
        "print(f'dicionario: {dicionario}')"
      ],
      "metadata": {
        "colab": {
          "base_uri": "https://localhost:8080/"
        },
        "id": "89jDo-DydcVX",
        "outputId": "23ac902a-ec43-4a09-ff60-3bdafc667a46"
      },
      "execution_count": 5,
      "outputs": [
        {
          "output_type": "stream",
          "name": "stdout",
          "text": [
            "Digite um número: 40\n",
            "Digite um número: 60\n",
            "Digite um número: 80\n",
            "lista: [40, 60, 80]\n",
            "tupla: (10, 20, 30, 40)\n",
            "dicionario: {'Arroz': 23.5, 'Feijão': 10.0, 'Tomate': 4.99, 'Alface': 3.5}\n"
          ]
        }
      ]
    },
    {
      "cell_type": "markdown",
      "source": [
        "Exercício: Faça um programa que cria uma lista, uma tupla e um dicionário. A lista deverá ser de 3 números inteiros digitados pelo usuário, a tupla com 5 números inteiros e o dicionário de 3 pessoas com suas idades. Ao final, mostrar todos os dados."
      ],
      "metadata": {
        "id": "o9Kx8pAjeFhH"
      }
    },
    {
      "cell_type": "code",
      "source": [
        "# Lista:\n",
        "lista=[]\n",
        "lista.append(int(input('Digite o primeiro número: ')))\n",
        "lista.append(int(input('Digite o segundo número: ')))\n",
        "lista.append(int(input('Digite o terceiro número: ')))\n",
        "# Tupla:\n",
        "tupla = (1, 5, 7, 18, 23)\n",
        "# Dicionário\n",
        "dicionario = {'Sérgio': 46, 'Ana': 20, \"Maria\": 41}\n",
        "\n",
        "print(f'lista = {lista}')\n",
        "print(f'tupla = {tupla}')\n",
        "dicionario"
      ],
      "metadata": {
        "colab": {
          "base_uri": "https://localhost:8080/"
        },
        "id": "PnYsox3FeHqH",
        "outputId": "6753c0e9-31b0-411b-9bd9-8f0290ad84e1"
      },
      "execution_count": 6,
      "outputs": [
        {
          "output_type": "stream",
          "name": "stdout",
          "text": [
            "Digite o primeiro número: 2\n",
            "Digite o segundo número: 5\n",
            "Digite o terceiro número: 9\n",
            "lista = [2, 5, 9]\n",
            "tupla = (1, 5, 7, 18, 23)\n"
          ]
        },
        {
          "output_type": "execute_result",
          "data": {
            "text/plain": [
              "{'Sérgio': 46, 'Ana': 20, 'Maria': 41}"
            ]
          },
          "metadata": {},
          "execution_count": 6
        }
      ]
    },
    {
      "cell_type": "markdown",
      "source": [
        "Ousando e errando, mas aprendendo"
      ],
      "metadata": {
        "id": "9AznU4rLez_-"
      }
    },
    {
      "cell_type": "code",
      "source": [
        "# Lista:\n",
        "lista=[]\n",
        "lista.append(int(input('Digite o primeiro número: ')))\n",
        "lista.append(int(input('Digite o segundo número: ')))\n",
        "lista.append(int(input('Digite o terceiro número: ')))\n",
        "\n",
        "# Tupla:\n",
        "tupla=()\n",
        "tupla.append(int(input('Digite o primeiro número: ')))\n",
        "tupla.append(int(input('Digite o segundo número: ')))\n",
        "tupla.append(int(input('Digite o terceiro número: ')))\n",
        "\n",
        "# Dicionário\n",
        "dicionario = {'Sérgio': 46, 'Ana': 20, \"Maria\": 41}\n",
        "\n",
        "print(f'lista = {lista}')\n",
        "print(f'tupla = {tupla}')\n",
        "dicionario"
      ],
      "metadata": {
        "colab": {
          "base_uri": "https://localhost:8080/",
          "height": 297
        },
        "id": "R5XU_dnLe2bu",
        "outputId": "719264eb-e22f-41c2-f278-e3f3a570b4eb"
      },
      "execution_count": 7,
      "outputs": [
        {
          "name": "stdout",
          "output_type": "stream",
          "text": [
            "Digite o primeiro número: 6\n",
            "Digite o segundo número: 7\n",
            "Digite o terceiro número: 9\n"
          ]
        },
        {
          "output_type": "error",
          "ename": "AttributeError",
          "evalue": "ignored",
          "traceback": [
            "\u001b[0;31m---------------------------------------------------------------------------\u001b[0m",
            "\u001b[0;31mAttributeError\u001b[0m                            Traceback (most recent call last)",
            "\u001b[0;32m<ipython-input-7-59aaa9faaf85>\u001b[0m in \u001b[0;36m<cell line: 9>\u001b[0;34m()\u001b[0m\n\u001b[1;32m      7\u001b[0m \u001b[0;31m# Tupla:\u001b[0m\u001b[0;34m\u001b[0m\u001b[0;34m\u001b[0m\u001b[0m\n\u001b[1;32m      8\u001b[0m \u001b[0mtupla\u001b[0m\u001b[0;34m=\u001b[0m\u001b[0;34m(\u001b[0m\u001b[0;34m)\u001b[0m\u001b[0;34m\u001b[0m\u001b[0;34m\u001b[0m\u001b[0m\n\u001b[0;32m----> 9\u001b[0;31m \u001b[0mtupla\u001b[0m\u001b[0;34m.\u001b[0m\u001b[0mappend\u001b[0m\u001b[0;34m(\u001b[0m\u001b[0mint\u001b[0m\u001b[0;34m(\u001b[0m\u001b[0minput\u001b[0m\u001b[0;34m(\u001b[0m\u001b[0;34m'Digite o primeiro número: '\u001b[0m\u001b[0;34m)\u001b[0m\u001b[0;34m)\u001b[0m\u001b[0;34m)\u001b[0m\u001b[0;34m\u001b[0m\u001b[0;34m\u001b[0m\u001b[0m\n\u001b[0m\u001b[1;32m     10\u001b[0m \u001b[0mtupla\u001b[0m\u001b[0;34m.\u001b[0m\u001b[0mappend\u001b[0m\u001b[0;34m(\u001b[0m\u001b[0mint\u001b[0m\u001b[0;34m(\u001b[0m\u001b[0minput\u001b[0m\u001b[0;34m(\u001b[0m\u001b[0;34m'Digite o segundo número: '\u001b[0m\u001b[0;34m)\u001b[0m\u001b[0;34m)\u001b[0m\u001b[0;34m)\u001b[0m\u001b[0;34m\u001b[0m\u001b[0;34m\u001b[0m\u001b[0m\n\u001b[1;32m     11\u001b[0m \u001b[0mtupla\u001b[0m\u001b[0;34m.\u001b[0m\u001b[0mappend\u001b[0m\u001b[0;34m(\u001b[0m\u001b[0mint\u001b[0m\u001b[0;34m(\u001b[0m\u001b[0minput\u001b[0m\u001b[0;34m(\u001b[0m\u001b[0;34m'Digite o terceiro número: '\u001b[0m\u001b[0;34m)\u001b[0m\u001b[0;34m)\u001b[0m\u001b[0;34m)\u001b[0m\u001b[0;34m\u001b[0m\u001b[0;34m\u001b[0m\u001b[0m\n",
            "\u001b[0;31mAttributeError\u001b[0m: 'tuple' object has no attribute 'append'"
          ]
        }
      ]
    },
    {
      "cell_type": "markdown",
      "source": [],
      "metadata": {
        "id": "CAkMflr6tFzZ"
      }
    }
  ]
}