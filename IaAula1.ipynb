{
  "nbformat": 4,
  "nbformat_minor": 0,
  "metadata": {
    "colab": {
      "provenance": [],
      "authorship_tag": "ABX9TyP1EsEnDS9etRGA2voXEWM3",
      "include_colab_link": true
    },
    "kernelspec": {
      "name": "python3",
      "display_name": "Python 3"
    },
    "language_info": {
      "name": "python"
    }
  },
  "cells": [
    {
      "cell_type": "markdown",
      "metadata": {
        "id": "view-in-github",
        "colab_type": "text"
      },
      "source": [
        "<a href=\"https://colab.research.google.com/github/Sandrad100/Ola-mundo/blob/main/IaAula1.ipynb\" target=\"_parent\"><img src=\"https://colab.research.google.com/assets/colab-badge.svg\" alt=\"Open In Colab\"/></a>"
      ]
    },
    {
      "cell_type": "markdown",
      "source": [
        "#**Meu Primeiro Programa (Parte 1)**"
      ],
      "metadata": {
        "id": "xdo3EX_PmQvs"
      }
    },
    {
      "cell_type": "code",
      "execution_count": 1,
      "metadata": {
        "colab": {
          "base_uri": "https://localhost:8080/"
        },
        "id": "GkYHwO5OkvLp",
        "outputId": "a9107488-5ff4-462b-acce-f77c4fad7cc9"
      },
      "outputs": [
        {
          "output_type": "stream",
          "name": "stdout",
          "text": [
            "Soma: 45\n",
            "Módulo 5\n",
            "Quociente 3\n",
            "n1= 45\n",
            "n2= 175\n"
          ]
        }
      ],
      "source": [
        "\n",
        "n1=10\n",
        "n2=35\n",
        "#operadores aritmeticos\n",
        "soma = n1 + n2\n",
        "modulo = n2 % n1\n",
        "quociente = n2 // n1\n",
        "print(\"Soma:\", soma)\n",
        "print(\"Módulo\", modulo)\n",
        "print(\"Quociente\", quociente)\n",
        "#operadores de atribuicao\n",
        "n1+=n2 #n1 = n1 + n2\n",
        "n2*=5 #n2 = n2 *5\n",
        "print(f\"n1= {n1}\")\n",
        "print(f\"n2= {n2}\")\n"
      ]
    },
    {
      "cell_type": "markdown",
      "source": [
        "# **Meu primeiro programa (Parte 2)**\n"
      ],
      "metadata": {
        "id": "T_ZXQsKblR1U"
      }
    },
    {
      "cell_type": "markdown",
      "source": [],
      "metadata": {
        "id": "zuIeWfaUk7Wd"
      }
    },
    {
      "cell_type": "code",
      "source": [
        "# Primeiro programa (comentário de uma linha)\n",
        "'''\n",
        "Aqui vamos comentar o programa\n",
        "em várias linhas\n",
        "'''\n",
        "\n",
        "print (\"Meu primeiro programa em Python\")\n"
      ],
      "metadata": {
        "colab": {
          "base_uri": "https://localhost:8080/"
        },
        "id": "y7TsasNhm2XL",
        "outputId": "f7545b6f-b38a-4a75-a5b4-02f443ce8260"
      },
      "execution_count": 2,
      "outputs": [
        {
          "output_type": "stream",
          "name": "stdout",
          "text": [
            "Meu primeiro programa em Python\n"
          ]
        }
      ]
    },
    {
      "cell_type": "markdown",
      "source": [
        "#**Meu Primeiro Programa (Parte 3)**\n"
      ],
      "metadata": {
        "id": "eyNHHb8tnNzz"
      }
    },
    {
      "cell_type": "code",
      "source": [
        "#criando as variáveis\n",
        "nome = \"João de Almeida\"\n",
        "idade = 30\n",
        "endereco = \"Avenida Francisco Glicério, 50\"\n",
        "altura = 1.78\n",
        "peso = 59\n",
        "sim = True\n",
        "sexo = \"M\"\n",
        "#Mostrando\n",
        "print(f'Nome:{nome}')\n",
        "print(f'Idade: {idade}')\n",
        "print(f'Endereço:{endereco}')\n",
        "print(f'Peso: {peso} kg')"
      ],
      "metadata": {
        "colab": {
          "base_uri": "https://localhost:8080/"
        },
        "id": "o09_4dAmnW3q",
        "outputId": "19029d2d-0f05-437f-80d1-1333afef0e3c"
      },
      "execution_count": 3,
      "outputs": [
        {
          "output_type": "stream",
          "name": "stdout",
          "text": [
            "Nome:João de Almeida\n",
            "Idade: 30\n",
            "Endereço:Avenida Francisco Glicério, 50\n",
            "Peso: 59 kg\n"
          ]
        }
      ]
    },
    {
      "cell_type": "markdown",
      "source": [
        "#**Minha atividade prática, trocando as variáveis**"
      ],
      "metadata": {
        "id": "nKpj22cxnmtK"
      }
    },
    {
      "cell_type": "code",
      "source": [
        "#criando as variáveis\n",
        "nome = \"Sandra Decembrino\"\n",
        "idade = 54\n",
        "endereco = \"Rua Pedro Astolfo, 50\"\n",
        "altura = 1.56\n",
        "peso = 65\n",
        "sim = True\n",
        "sexo = \"F\"\n",
        "#Mostrando\n",
        "print(f'Nome:{nome}')\n",
        "print(f'Idade: {idade}')\n",
        "print(f'Endereço:{endereco}')\n",
        "print(f'Peso: {peso} kg')"
      ],
      "metadata": {
        "colab": {
          "base_uri": "https://localhost:8080/"
        },
        "id": "g8zvfJY1nwxa",
        "outputId": "095411a5-00cd-487a-cd0a-399640de4ed2"
      },
      "execution_count": 4,
      "outputs": [
        {
          "output_type": "stream",
          "name": "stdout",
          "text": [
            "Nome:Sandra Decembrino\n",
            "Idade: 54\n",
            "Endereço:Rua Pedro Astolfo, 50\n",
            "Peso: 65 kg\n"
          ]
        }
      ]
    },
    {
      "cell_type": "markdown",
      "source": [
        "#**Atividade prática 1**"
      ],
      "metadata": {
        "id": "_bDxaBvZo2DK"
      }
    },
    {
      "cell_type": "markdown",
      "source": [
        "**Entrada de dados**"
      ],
      "metadata": {
        "id": "fjmfrGuCpHsC"
      }
    },
    {
      "cell_type": "code",
      "source": [
        "nome = input('Digite o seu nome:')\n",
        "idade = int(input('Digite a sua idade:'))"
      ],
      "metadata": {
        "colab": {
          "base_uri": "https://localhost:8080/"
        },
        "id": "aMVlWFw8o8RS",
        "outputId": "783fc600-e1af-4808-ccf4-c27ea4a035be"
      },
      "execution_count": 5,
      "outputs": [
        {
          "name": "stdout",
          "output_type": "stream",
          "text": [
            "Digite o seu nome:Sandra Decembrino\n",
            "Digite a sua idade:54\n"
          ]
        }
      ]
    },
    {
      "cell_type": "markdown",
      "source": [
        "**Saída de Dados**"
      ],
      "metadata": {
        "id": "voWimMkFpk26"
      }
    },
    {
      "cell_type": "code",
      "source": [
        "print(f'Nome: {nome}')\n",
        "print(f'Idade: {idade}')"
      ],
      "metadata": {
        "colab": {
          "base_uri": "https://localhost:8080/"
        },
        "id": "j0Ivj_d7povq",
        "outputId": "89d88e5c-e1fa-4dfe-8142-244c6b359b31"
      },
      "execution_count": 6,
      "outputs": [
        {
          "output_type": "stream",
          "name": "stdout",
          "text": [
            "Nome: Sandra Decembrino\n",
            "Idade: 54\n"
          ]
        }
      ]
    },
    {
      "cell_type": "markdown",
      "source": [
        "#**Desafio: Tratando excessões**"
      ],
      "metadata": {
        "id": "T9OFd5t3qHWi"
      }
    },
    {
      "cell_type": "code",
      "source": [
        "idade = int(input('Digite a sua idade:')) ### Vamos corrigir!!!"
      ],
      "metadata": {
        "colab": {
          "base_uri": "https://localhost:8080/",
          "height": 193
        },
        "id": "vVwBRgqAqMaB",
        "outputId": "b4aa7907-bc9f-4276-ba75-a7812724c853"
      },
      "execution_count": 7,
      "outputs": [
        {
          "name": "stdout",
          "output_type": "stream",
          "text": [
            "Digite a sua idade:4a\n"
          ]
        },
        {
          "output_type": "error",
          "ename": "ValueError",
          "evalue": "ignored",
          "traceback": [
            "\u001b[0;31m---------------------------------------------------------------------------\u001b[0m",
            "\u001b[0;31mValueError\u001b[0m                                Traceback (most recent call last)",
            "\u001b[0;32m<ipython-input-7-0c8a957acfc2>\u001b[0m in \u001b[0;36m<cell line: 1>\u001b[0;34m()\u001b[0m\n\u001b[0;32m----> 1\u001b[0;31m \u001b[0midade\u001b[0m \u001b[0;34m=\u001b[0m \u001b[0mint\u001b[0m\u001b[0;34m(\u001b[0m\u001b[0minput\u001b[0m\u001b[0;34m(\u001b[0m\u001b[0;34m'Digite a sua idade:'\u001b[0m\u001b[0;34m)\u001b[0m\u001b[0;34m)\u001b[0m \u001b[0;31m### Vamos corrigir!!!\u001b[0m\u001b[0;34m\u001b[0m\u001b[0;34m\u001b[0m\u001b[0m\n\u001b[0m",
            "\u001b[0;31mValueError\u001b[0m: invalid literal for int() with base 10: '4a'"
          ]
        }
      ]
    },
    {
      "cell_type": "code",
      "source": [
        "try:\n",
        "  idade = int(input('Digite a sua idade:'))\n",
        "except:\n",
        "  print('Digite um número válido')"
      ],
      "metadata": {
        "colab": {
          "base_uri": "https://localhost:8080/"
        },
        "id": "xNcBdYwGqw_J",
        "outputId": "a5c743c4-1216-45f8-cfc4-3424ffcb244b"
      },
      "execution_count": 8,
      "outputs": [
        {
          "output_type": "stream",
          "name": "stdout",
          "text": [
            "Digite a sua idade:4a\n",
            "Digite um número válido\n"
          ]
        }
      ]
    }
  ]
}