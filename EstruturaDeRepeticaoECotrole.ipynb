{
  "nbformat": 4,
  "nbformat_minor": 0,
  "metadata": {
    "colab": {
      "provenance": [],
      "authorship_tag": "ABX9TyNTZI1CCx6C6wJMbewD0Xe3",
      "include_colab_link": true
    },
    "kernelspec": {
      "name": "python3",
      "display_name": "Python 3"
    },
    "language_info": {
      "name": "python"
    }
  },
  "cells": [
    {
      "cell_type": "markdown",
      "metadata": {
        "id": "view-in-github",
        "colab_type": "text"
      },
      "source": [
        "<a href=\"https://colab.research.google.com/github/Sandrad100/Ola-mundo/blob/main/EstruturaDeRepeticaoECotrole.ipynb\" target=\"_parent\"><img src=\"https://colab.research.google.com/assets/colab-badge.svg\" alt=\"Open In Colab\"/></a>"
      ]
    },
    {
      "cell_type": "markdown",
      "source": [
        "#**Estrutura de Controle em Phyton**"
      ],
      "metadata": {
        "id": "6eZiYTP1w_Wp"
      }
    },
    {
      "cell_type": "markdown",
      "source": [
        "**Estrutura de Decisão serve para testar se uma determinada condição é verdadeira. Também chamada de Controle de fluxo. Usa se, então...**"
      ],
      "metadata": {
        "id": "Ip4rdKbOxm7Z"
      }
    },
    {
      "cell_type": "markdown",
      "source": [
        "#**Ordem Crescente**"
      ],
      "metadata": {
        "id": "0jJzpGQBzJ4I"
      }
    },
    {
      "cell_type": "code",
      "source": [
        "primeiro = float(input('Digite um número inteiro: '))\n",
        "segundo = float(input('Digite outro número: '))\n",
        "# Estrutura condicional simples:\n",
        "if primeiro > segundo:\n",
        "    aux = primeiro\n",
        "    primeiro = segundo\n",
        "    segundo = aux\n",
        "print('Números em ordem crescente: ', primeiro, segundo)"
      ],
      "metadata": {
        "colab": {
          "base_uri": "https://localhost:8080/"
        },
        "id": "H7PS_u1vyCXH",
        "outputId": "97f72909-d0c8-476d-890b-8129f6d8e5ff"
      },
      "execution_count": 2,
      "outputs": [
        {
          "output_type": "stream",
          "name": "stdout",
          "text": [
            "Digite um número inteiro: 2\n",
            "Digite outro número: 8\n",
            "Números em ordem crescente:  2.0 8.0\n"
          ]
        }
      ]
    },
    {
      "cell_type": "markdown",
      "source": [
        "#**Par ou Ímpar**\n",
        "If e Else"
      ],
      "metadata": {
        "id": "S76A6n1OzPJf"
      }
    },
    {
      "cell_type": "code",
      "source": [
        "numero = int(input('Digite um número: '))\n",
        "if numero % 2 == 0:\n",
        "    print(numero, 'é par')\n",
        "else:\n",
        "    print(numero, 'é ímpar')"
      ],
      "metadata": {
        "colab": {
          "base_uri": "https://localhost:8080/"
        },
        "id": "-K6a5Dz_xFFo",
        "outputId": "d7316f9e-02bb-4199-86f7-e2b04f7a6168"
      },
      "execution_count": 3,
      "outputs": [
        {
          "output_type": "stream",
          "name": "stdout",
          "text": [
            "Digite um número: 5\n",
            "5 é ímpar\n"
          ]
        }
      ]
    },
    {
      "cell_type": "markdown",
      "source": [
        "#**Números Positivos, Negativos e Zero**\n",
        "If, elif e else"
      ],
      "metadata": {
        "id": "qtFQ3Ngbz3Z3"
      }
    },
    {
      "cell_type": "code",
      "execution_count": 4,
      "metadata": {
        "colab": {
          "base_uri": "https://localhost:8080/"
        },
        "id": "1dO4hPMpwUmI",
        "outputId": "a14c9a21-2fbc-4445-ed4c-43f54f83238d"
      },
      "outputs": [
        {
          "output_type": "stream",
          "name": "stdout",
          "text": [
            "Digite um número: 2000\n",
            "2000.0 é positivo\n"
          ]
        }
      ],
      "source": [
        "numero = float(input('Digite um número: '))\n",
        "# estrutura condicional aninhada:\n",
        "if numero > 0:\n",
        "    print(numero, 'é positivo')\n",
        "elif numero < 0:\n",
        "    print(numero, 'é negativo')\n",
        "else:\n",
        "    print(numero, 'é zero')"
      ]
    },
    {
      "cell_type": "markdown",
      "source": [
        "**Estrutura de repetição - Os laços**\n",
        "Serve pra repetir certo comando até não ser mais verdadeira"
      ],
      "metadata": {
        "id": "zMjTqAv50fMo"
      }
    },
    {
      "cell_type": "markdown",
      "source": [
        "#**For**"
      ],
      "metadata": {
        "id": "V15j5Q0T09bZ"
      }
    },
    {
      "cell_type": "markdown",
      "source": [
        "Do 0 até uma determinada posição no índice:"
      ],
      "metadata": {
        "id": "ZwDrVcvz1fi5"
      }
    },
    {
      "cell_type": "code",
      "source": [
        "#Exemplo de for\n",
        "for i in range(11):\n",
        "    print(i, end=' ')"
      ],
      "metadata": {
        "colab": {
          "base_uri": "https://localhost:8080/"
        },
        "id": "efYt7TFh1A9f",
        "outputId": "93ee55d1-0b89-4264-eebc-823da93baf57"
      },
      "execution_count": 5,
      "outputs": [
        {
          "output_type": "stream",
          "name": "stdout",
          "text": [
            "0 1 2 3 4 5 6 7 8 9 10 "
          ]
        }
      ]
    },
    {
      "cell_type": "markdown",
      "source": [
        "Montando uma tabuada"
      ],
      "metadata": {
        "id": "rABmjqLn1nRI"
      }
    },
    {
      "cell_type": "code",
      "source": [
        "#Segundo exemplo de for\n",
        "numero = int(input('Digite um número: '))\n",
        "print('Tabuada do ', numero)\n",
        "for i in range(1, 11):\n",
        "    print(i, 'x', numero, '=', i*numero)\n"
      ],
      "metadata": {
        "colab": {
          "base_uri": "https://localhost:8080/"
        },
        "id": "_4f7DE7W1q03",
        "outputId": "5c6d62d2-533d-45aa-afe4-12902dac402f"
      },
      "execution_count": 6,
      "outputs": [
        {
          "output_type": "stream",
          "name": "stdout",
          "text": [
            "Digite um número: 9\n",
            "Tabuada do  9\n",
            "1 x 9 = 9\n",
            "2 x 9 = 18\n",
            "3 x 9 = 27\n",
            "4 x 9 = 36\n",
            "5 x 9 = 45\n",
            "6 x 9 = 54\n",
            "7 x 9 = 63\n",
            "8 x 9 = 72\n",
            "9 x 9 = 81\n",
            "10 x 9 = 90\n"
          ]
        }
      ]
    },
    {
      "cell_type": "markdown",
      "source": [
        "Fatorial\n",
        "um exemplo: Se digitarmos 5, o fatorial será o resultado de 5x4x3x2x1 = 120\n",
        "\n",
        "Outro exemplo: O fatorial de 9 = 9x8x7x6x5x4x3x2x1 = 362.880\n"
      ],
      "metadata": {
        "id": "jkTvLcEv2DXX"
      }
    },
    {
      "cell_type": "code",
      "source": [
        "#Fatorial\n",
        "numero = int(input('Digite um número: '))\n",
        "f = 1\n",
        "for i in range(numero, 1, -1):\n",
        "  f = f * i\n",
        "print('O fatorial do número é: ', f)"
      ],
      "metadata": {
        "colab": {
          "base_uri": "https://localhost:8080/"
        },
        "id": "dpN2VXrg2F1H",
        "outputId": "430342cb-4838-4cd9-bad1-205d95119d7c"
      },
      "execution_count": 8,
      "outputs": [
        {
          "output_type": "stream",
          "name": "stdout",
          "text": [
            "Digite um número: 9\n",
            "O fatorial do número é:  362880\n"
          ]
        }
      ]
    },
    {
      "cell_type": "markdown",
      "source": [
        "#**While**"
      ],
      "metadata": {
        "id": "LY8R5Sa65B94"
      }
    },
    {
      "cell_type": "markdown",
      "source": [
        "Ele vai adicionando 1 ao número anterior e, ao final, dá o resultado desses valores"
      ],
      "metadata": {
        "id": "EI6Z9usU5WpX"
      }
    },
    {
      "cell_type": "code",
      "source": [
        "#estrutura while\n",
        "i = 0\n",
        "soma=0\n",
        "while(i<=10):\n",
        "  print(i, end=' ')\n",
        "  soma = soma + i\n",
        "  i = i + 1\n",
        "print('\\nSoma: ', soma)"
      ],
      "metadata": {
        "colab": {
          "base_uri": "https://localhost:8080/"
        },
        "id": "RJohm1D95FHP",
        "outputId": "1cc5c111-acb2-4813-8cb0-d7c594a88e7b"
      },
      "execution_count": 9,
      "outputs": [
        {
          "output_type": "stream",
          "name": "stdout",
          "text": [
            "0 1 2 3 4 5 6 7 8 9 10 \n",
            "Soma:  55\n"
          ]
        }
      ]
    },
    {
      "cell_type": "markdown",
      "source": [
        "#**Prática**\n",
        "Vamos fazer um programa que cria uma lista de números inteiros digitados pelo usuário. Quando digitar um número negativo, deve encerrar as digitações. Ao final, mostrar a lista e a soma dos números."
      ],
      "metadata": {
        "id": "GC8AKr7p5prf"
      }
    },
    {
      "cell_type": "code",
      "source": [
        "numeros = []\n",
        "while True:\n",
        "  n = int(input('Digite números não-negativos: '))\n",
        "  if n >= 0:\n",
        "    numeros.append(n)\n",
        "  else:\n",
        "    break\n",
        "print(f'numeros: {numeros}')\n",
        "print('Soma:  ',soma)"
      ],
      "metadata": {
        "colab": {
          "base_uri": "https://localhost:8080/"
        },
        "id": "ghjMOpBs5v1v",
        "outputId": "3dd8f6c1-5e8c-4dfe-a395-2a3a5fa38d77"
      },
      "execution_count": 11,
      "outputs": [
        {
          "output_type": "stream",
          "name": "stdout",
          "text": [
            "Digite números não-negativos: 8\n",
            "Digite números não-negativos: 7\n",
            "Digite números não-negativos: 6\n",
            "Digite números não-negativos: 2\n",
            "Digite números não-negativos: 4\n",
            "Digite números não-negativos: -9\n",
            "numeros: [8, 7, 6, 2, 4]\n",
            "Soma:   55\n"
          ]
        }
      ]
    },
    {
      "cell_type": "markdown",
      "source": [
        "Outra maneira de fazer este exercício:"
      ],
      "metadata": {
        "id": "WYCiz37787hH"
      }
    },
    {
      "cell_type": "code",
      "source": [
        "numeros = []\n",
        "while True:\n",
        "  n = int(input('Digite números não-negativos: '))\n",
        "  if n >= 0:\n",
        "    numeros.append(n)\n",
        "  else:\n",
        "    break\n",
        "print(f'numeros: {numeros}')\n",
        "     ,"
      ],
      "metadata": {
        "colab": {
          "base_uri": "https://localhost:8080/"
        },
        "id": "dGyv5pGU86kH",
        "outputId": "7033a685-7ad2-4d3e-d6e5-0fe5440c7bf1"
      },
      "execution_count": 12,
      "outputs": [
        {
          "output_type": "stream",
          "name": "stdout",
          "text": [
            "Digite números não-negativos: 8\n",
            "Digite números não-negativos: 9\n",
            "Digite números não-negativos: 5\n",
            "Digite números não-negativos: -9\n",
            "numeros: [8, 9, 5]\n"
          ]
        }
      ]
    },
    {
      "cell_type": "code",
      "source": [
        "soma = 0\n",
        "for x in numeros:\n",
        "  soma = soma + x\n",
        "print(f'A soma dos números é: {soma}')"
      ],
      "metadata": {
        "colab": {
          "base_uri": "https://localhost:8080/"
        },
        "id": "TbkOw8h49FE_",
        "outputId": "94d1fa7c-00cf-4902-878f-a052e74cc5c2"
      },
      "execution_count": 13,
      "outputs": [
        {
          "output_type": "stream",
          "name": "stdout",
          "text": [
            "A soma dos números é: 22\n"
          ]
        }
      ]
    },
    {
      "cell_type": "markdown",
      "source": [
        "Desenvolva um programa em Python que recebe um número inteiro, verifica e mostra se esse número é primo ou não."
      ],
      "metadata": {
        "id": "6OubpDfX8RJf"
      }
    },
    {
      "cell_type": "markdown",
      "source": [
        "Primeiramente vamos verificar se o valor digitado é um número não negativo. Pra isso utilizamos o código abaixo. Para isso, usamos o WHILE, TRY e EXCEPT"
      ],
      "metadata": {
        "id": "Oelnf8yc-blv"
      }
    },
    {
      "cell_type": "code",
      "source": [
        "while True:\n",
        "  try:\n",
        "    num = int(input('Digite um número inteiro não-negativos '))\n",
        "    if(num>0):\n",
        "      break\n",
        "  except:\n",
        "    print('O programa só aceita números inteiros não-negativos')\n"
      ],
      "metadata": {
        "colab": {
          "base_uri": "https://localhost:8080/"
        },
        "id": "TV-orjRW8TBA",
        "outputId": "2e802500-8bd3-471c-cb66-644d8940db70"
      },
      "execution_count": 14,
      "outputs": [
        {
          "name": "stdout",
          "output_type": "stream",
          "text": [
            "Digite um número inteiro não-negativos 7\n"
          ]
        }
      ]
    },
    {
      "cell_type": "code",
      "source": [
        "import numpy as np\n",
        "x = np.round(num/2)\n",
        "ehPrimo = True\n",
        "while x>1:\n",
        "  if(num % x == 0):\n",
        "    ehPrimo = False\n",
        "    break\n",
        "  x = x -1\n",
        "\n",
        "if(ehPrimo):\n",
        "  print(f'O número {num} é primo')\n",
        "else:\n",
        "  print(f'O número {num} NÃO é primo')\n",
        ""
      ],
      "metadata": {
        "colab": {
          "base_uri": "https://localhost:8080/"
        },
        "id": "8W-0W1Ww_Eff",
        "outputId": "658f6c56-57af-44ac-9c86-6f1f8b96f319"
      },
      "execution_count": 15,
      "outputs": [
        {
          "output_type": "stream",
          "name": "stdout",
          "text": [
            "O número 7 é primo\n"
          ]
        }
      ]
    }
  ]
}