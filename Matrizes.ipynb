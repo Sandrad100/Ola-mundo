{
  "nbformat": 4,
  "nbformat_minor": 0,
  "metadata": {
    "colab": {
      "provenance": [],
      "authorship_tag": "ABX9TyMYLjdhDtM2gWOq1cYJJMIU",
      "include_colab_link": true
    },
    "kernelspec": {
      "name": "python3",
      "display_name": "Python 3"
    },
    "language_info": {
      "name": "python"
    }
  },
  "cells": [
    {
      "cell_type": "markdown",
      "metadata": {
        "id": "view-in-github",
        "colab_type": "text"
      },
      "source": [
        "<a href=\"https://colab.research.google.com/github/Sandrad100/Ola-mundo/blob/main/Matrizes.ipynb\" target=\"_parent\"><img src=\"https://colab.research.google.com/assets/colab-badge.svg\" alt=\"Open In Colab\"/></a>"
      ]
    },
    {
      "cell_type": "code",
      "execution_count": null,
      "metadata": {
        "id": "V0ZHxcscPe2k"
      },
      "outputs": [],
      "source": []
    },
    {
      "cell_type": "markdown",
      "source": [
        "#**Matrizes**"
      ],
      "metadata": {
        "id": "ZyDmQ9pNPfkR"
      }
    },
    {
      "cell_type": "markdown",
      "source": [
        "**Exemplos de vetores** - Vetores são tabelas unidimensionais (Uma linha). A diferença é que os itens são identificados como índices."
      ],
      "metadata": {
        "id": "dIu-ccV3QB7h"
      }
    },
    {
      "cell_type": "markdown",
      "source": [
        "Esta forma abaixo é uma forma funcional."
      ],
      "metadata": {
        "id": "q5kV1R7mREap"
      }
    },
    {
      "cell_type": "code",
      "source": [
        "# Exemplo de lista\n",
        "num = [1, 2, 3, 4, 5]\n",
        "print(f'num = {num}')\n",
        "#Mostrando pelo for:\n",
        "for x in num:\n",
        "    print(x,end=' ')\n"
      ],
      "metadata": {
        "colab": {
          "base_uri": "https://localhost:8080/"
        },
        "id": "MIOjMMjuQGNC",
        "outputId": "d3badc9c-00e2-4002-8c0b-4a52f8658722"
      },
      "execution_count": 1,
      "outputs": [
        {
          "output_type": "stream",
          "name": "stdout",
          "text": [
            "num = [1, 2, 3, 4, 5]\n",
            "1 2 3 4 5 "
          ]
        }
      ]
    },
    {
      "cell_type": "markdown",
      "source": [
        "Agora inserindo os valores nos vetores"
      ],
      "metadata": {
        "id": "B2dSfl0qXVNI"
      }
    },
    {
      "cell_type": "code",
      "source": [
        "num = [0,0,0,0,0]\n",
        "for i in range(5):\n",
        "    num[i] = int(input('Digite um número: '))\n",
        "\n",
        "print(num)\n"
      ],
      "metadata": {
        "colab": {
          "base_uri": "https://localhost:8080/"
        },
        "id": "qqRbAHOBXYdB",
        "outputId": "36145460-3bf3-4a1c-e51a-d8b3a58c9310"
      },
      "execution_count": 3,
      "outputs": [
        {
          "output_type": "stream",
          "name": "stdout",
          "text": [
            "Digite um número: 8\n",
            "Digite um número: 7\n",
            "Digite um número: 1\n",
            "Digite um número: 2\n",
            "Digite um número: 89\n",
            "[8, 7, 1, 2, 89]\n"
          ]
        }
      ]
    },
    {
      "cell_type": "markdown",
      "source": [
        "Outro exemplo de matriz sendo que aqui, os elements também são listas. Ou seja, uma lista dentro da outra. A linha é (i) e a coluna (J)"
      ],
      "metadata": {
        "id": "Ozuzb3xZCZ1b"
      }
    },
    {
      "cell_type": "code",
      "source": [
        "# Exemplo de Matriz:\n",
        "matriz = [[0,0],[0,0],[0,0]]\n",
        "print(matriz)\n",
        "for i in range(3):\n",
        "    for j in range(2):\n",
        "        matriz[i][j] = int(input('Digite um número: '))\n",
        "print(matriz)"
      ],
      "metadata": {
        "colab": {
          "base_uri": "https://localhost:8080/"
        },
        "id": "JztnaY8BCcmj",
        "outputId": "de86ca2a-e9f2-4f58-d218-aa36567487ce"
      },
      "execution_count": 4,
      "outputs": [
        {
          "output_type": "stream",
          "name": "stdout",
          "text": [
            "[[0, 0], [0, 0], [0, 0]]\n",
            "Digite um número: 7\n",
            "Digite um número: 6\n",
            "Digite um número: 1\n",
            "Digite um número: 2\n",
            "Digite um número: 5\n",
            "Digite um número: 4\n",
            "[[7, 6], [1, 2], [5, 4]]\n"
          ]
        }
      ]
    },
    {
      "cell_type": "markdown",
      "source": [
        "#**Modularização**"
      ],
      "metadata": {
        "id": "XNeO4BLZHkob"
      }
    },
    {
      "cell_type": "markdown",
      "source": [
        "Aqui eu defino uma função. Como está sem parâmetro, o parêntese está vazio. no caso, eu estou definindo que ola vai chamar esta frase toda."
      ],
      "metadata": {
        "id": "eT_g81glII16"
      }
    },
    {
      "cell_type": "code",
      "source": [
        "def ola():\n",
        "    print(\"Olá, bem-vindo ao estudo de Python\")\n",
        "\n",
        "# chamada do módulo:\n",
        "ola()\n",
        "print('Fim do procedimento')\n",
        ""
      ],
      "metadata": {
        "colab": {
          "base_uri": "https://localhost:8080/"
        },
        "id": "SZ57UQaEHpoz",
        "outputId": "812eddb9-e97f-42aa-bca7-8efc1e2b3dbd"
      },
      "execution_count": 5,
      "outputs": [
        {
          "output_type": "stream",
          "name": "stdout",
          "text": [
            "Olá, bem-vindo ao estudo de Python\n",
            "Fim do procedimento\n"
          ]
        }
      ]
    },
    {
      "cell_type": "markdown",
      "source": [
        "Aqui a função já tem parâmetro que é (nome)"
      ],
      "metadata": {
        "id": "NB3nveakIrPq"
      }
    },
    {
      "cell_type": "code",
      "source": [
        "def ola(nome):\n",
        "  print('Olá', nome, 'seja bem-vindo(a)!')\n",
        "\n",
        "#módulo principal:\n",
        "nome=input('Digite o seu nome:  ')\n",
        "\n",
        "# chamada do módulo:\n",
        "ola (nome)\n",
        "print ('Fim do procedimento')"
      ],
      "metadata": {
        "colab": {
          "base_uri": "https://localhost:8080/"
        },
        "id": "ZW-9nooYIyyT",
        "outputId": "c0b484f1-142a-42ec-f7d1-086a27db8015"
      },
      "execution_count": 6,
      "outputs": [
        {
          "output_type": "stream",
          "name": "stdout",
          "text": [
            "Digite o seu nome:  Sandra\n",
            "Olá Sandra seja bem-vindo(a)!\n",
            "Fim do procedimento\n"
          ]
        }
      ]
    },
    {
      "cell_type": "markdown",
      "source": [
        "#**Função sem parâmetro**"
      ],
      "metadata": {
        "id": "jUhHES44KDwT"
      }
    },
    {
      "cell_type": "code",
      "source": [
        "def soma():\n",
        "    n1 = int(input('Digite um número: '))\n",
        "    n2 = int(input('Digite outro número: '))\n",
        "    s = n1+n2\n",
        "    return s\n",
        "\n",
        "#módulo principal:\n",
        "s = soma()\n",
        "print(f'Resultado da soma: {s}')\n"
      ],
      "metadata": {
        "colab": {
          "base_uri": "https://localhost:8080/"
        },
        "id": "GkhsrOsDKIfz",
        "outputId": "6082577b-aece-422d-89da-1310feb4076b"
      },
      "execution_count": 7,
      "outputs": [
        {
          "output_type": "stream",
          "name": "stdout",
          "text": [
            "Digite um número: 8\n",
            "Digite outro número: 2\n",
            "Resultado da soma: 10\n"
          ]
        }
      ]
    },
    {
      "cell_type": "markdown",
      "source": [
        "#**Função com parâmetro**"
      ],
      "metadata": {
        "id": "WEUAnI7bKiaS"
      }
    },
    {
      "cell_type": "code",
      "source": [
        "def soma(n1, n2):\n",
        "    s = n1+n2\n",
        "    return s\n",
        "\n",
        "#módulo principal:\n",
        "n1 = int(input('Digite um número: '))\n",
        "n2 = int(input('Digite outro número: '))\n",
        "s = soma(n1, n2)\n",
        "print(f'Resultado da soma: {s}')\n"
      ],
      "metadata": {
        "colab": {
          "base_uri": "https://localhost:8080/"
        },
        "id": "-u2q8meOKl9i",
        "outputId": "dd48addc-c33e-435e-e9e0-72c6eeb4fb20"
      },
      "execution_count": 8,
      "outputs": [
        {
          "output_type": "stream",
          "name": "stdout",
          "text": [
            "Digite um número: 7\n",
            "Digite outro número: 6\n",
            "Resultado da soma: 13\n"
          ]
        }
      ]
    },
    {
      "cell_type": "markdown",
      "source": [
        "#**Prática**"
      ],
      "metadata": {
        "id": "I_KMkkYZNxDL"
      }
    },
    {
      "cell_type": "markdown",
      "source": [
        "Vamos fazer um programa que armazena 9 números digitados em uma matriz de 3x3, verificar qual o maior número da matriz e calcular a soma entre os números. Fazer um módulo para cada operação."
      ],
      "metadata": {
        "id": "lzt5_nA8N1-h"
      }
    },
    {
      "cell_type": "code",
      "source": [
        "#Exemplo 4\n",
        "def preenche(matriz):\n",
        "  for i in range(3):\n",
        "    for j in range(3):\n",
        "      matriz[i][j]=int(input('Digite um número: '))\n",
        "  matriz\n",
        "  return matriz"
      ],
      "metadata": {
        "id": "wjcMsOBON3OK"
      },
      "execution_count": 11,
      "outputs": []
    },
    {
      "cell_type": "code",
      "source": [
        "def verifica_maior(matriz):\n",
        "  maior=matriz[0][0]\n",
        "  for i in range(3):\n",
        "    for j in range(3):\n",
        "      if(matriz[i][j]>maior):\n",
        "        maior=matriz[i][j]\n",
        "  return maior"
      ],
      "metadata": {
        "id": "G5SEMqG6N0J6"
      },
      "execution_count": 12,
      "outputs": []
    },
    {
      "cell_type": "code",
      "source": [
        "def soma(matriz):\n",
        "  s=0\n",
        "  for i in range(3):\n",
        "    for j in range(3):\n",
        "      s = s + matriz[i][j]\n",
        "  return s"
      ],
      "metadata": {
        "id": "0t_KuX1zOiIb"
      },
      "execution_count": 13,
      "outputs": []
    },
    {
      "cell_type": "code",
      "source": [
        "#módulo principal\n",
        "matriz=[[0,0,0],[0,0,0],[0,0,0]]\n",
        "preenche(matriz)\n",
        "maior=verifica_maior(matriz)\n",
        "s=soma(matriz)\n",
        "print(matriz)\n",
        "print('Maior valor: ', maior)\n",
        "print('Soma: ',s)"
      ],
      "metadata": {
        "colab": {
          "base_uri": "https://localhost:8080/"
        },
        "id": "9qladby-OqrC",
        "outputId": "1fb2c69e-1875-4093-d31c-e81e8d76a7ee"
      },
      "execution_count": 14,
      "outputs": [
        {
          "output_type": "stream",
          "name": "stdout",
          "text": [
            "Digite um número: 1\n",
            "Digite um número: 5\n",
            "Digite um número: 9\n",
            "Digite um número: 3\n",
            "Digite um número: 7\n",
            "Digite um número: 4\n",
            "Digite um número: 8\n",
            "Digite um número: 6\n",
            "Digite um número: 4\n",
            "[[1, 5, 9], [3, 7, 4], [8, 6, 4]]\n",
            "Maior valor:  9\n",
            "Soma:  47\n"
          ]
        }
      ]
    },
    {
      "cell_type": "markdown",
      "source": [
        "Outro exercício"
      ],
      "metadata": {
        "id": "bNMy8KBvPJ8Z"
      }
    },
    {
      "cell_type": "code",
      "source": [
        "lista=[]\n",
        "for i in range(10):\n",
        "  lista.append(int(input('Digite um número: ')))"
      ],
      "metadata": {
        "colab": {
          "base_uri": "https://localhost:8080/"
        },
        "id": "AvAOS0m0PMNJ",
        "outputId": "bb67a717-8215-4c5c-d9fb-09e5098db3de"
      },
      "execution_count": 17,
      "outputs": [
        {
          "name": "stdout",
          "output_type": "stream",
          "text": [
            "Digite um número: 1\n",
            "Digite um número: 2\n",
            "Digite um número: 3\n",
            "Digite um número: 4\n",
            "Digite um número: 5\n",
            "Digite um número: 6\n",
            "Digite um número: 7\n",
            "Digite um número: 8\n",
            "Digite um número: 9\n",
            "Digite um número: 18\n"
          ]
        }
      ]
    },
    {
      "cell_type": "code",
      "source": [
        "import numpy as np\n",
        "def fPrimo(num):\n",
        "  if(num<2):\n",
        "    print(f'O número {num} NÃO é primo')\n",
        "    return\n",
        "\n",
        "  x = np.round(num/2)\n",
        "  ehPrimo = True\n",
        "  while x>1:\n",
        "    if(num % x == 0):\n",
        "      ehPrimo = False\n",
        "      break\n",
        "    x = x -1\n",
        "  if(ehPrimo):\n",
        "    print(f'O número {num} é primo')\n",
        "  else:\n",
        "    print(f'O número {num} NÃO é primo')\n",
        "\n"
      ],
      "metadata": {
        "id": "IB_2libEQLUx"
      },
      "execution_count": 20,
      "outputs": []
    },
    {
      "cell_type": "code",
      "source": [
        "for elem in lista:\n",
        "  fPrimo(elem)\n",
        ""
      ],
      "metadata": {
        "colab": {
          "base_uri": "https://localhost:8080/"
        },
        "id": "ThyP4O6gQVzZ",
        "outputId": "2144a06e-c248-448c-db2b-569bdcf335b3"
      },
      "execution_count": 21,
      "outputs": [
        {
          "output_type": "stream",
          "name": "stdout",
          "text": [
            "O número 1 NÃO é primo\n",
            "O número 2 é primo\n",
            "O número 3 é primo\n",
            "O número 4 NÃO é primo\n",
            "O número 5 é primo\n",
            "O número 6 NÃO é primo\n",
            "O número 7 é primo\n",
            "O número 8 NÃO é primo\n",
            "O número 9 NÃO é primo\n",
            "O número 18 NÃO é primo\n"
          ]
        }
      ]
    }
  ]
}